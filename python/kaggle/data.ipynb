{
 "cells": [
  {
   "cell_type": "code",
   "execution_count": 3,
   "metadata": {},
   "outputs": [
    {
     "name": "stdout",
     "output_type": "stream",
     "text": [
      "4\n",
      "Help on function least_difference in module __main__:\n",
      "\n",
      "least_difference(a, b, c)\n",
      "    Return the smallest difference between any two numbers among a,b,c\n",
      "    \n",
      "    >>> least_difference(1,5,-5)\n",
      "    4\n",
      "\n"
     ]
    }
   ],
   "source": [
    "def least_difference(a,b,c):\n",
    "    \"\"\"\n",
    "    Return the smallest difference between any two numbers among a,b,c\n",
    "\n",
    "    >>> least_difference(1,5,-5)\n",
    "    4\n",
    "    \"\"\"\n",
    "    diff1 = abs(a-b)\n",
    "    diff2 = abs(b -c )\n",
    "    diff3 = abs(a -c)\n",
    "    return min(diff1, diff2, diff3)\n",
    "\n",
    "print(least_difference(1,5,-5))\n",
    "# help(least_difference)"
   ]
  },
  {
   "cell_type": "code",
   "execution_count": 5,
   "metadata": {},
   "outputs": [
    {
     "name": "stdout",
     "output_type": "stream",
     "text": [
      "1 < 2 < 3\n",
      "Hello,  Colin\n",
      "Hello,  Kallion\n",
      "Hello,  rains\n"
     ]
    }
   ],
   "source": [
    "print(1,2,3, sep=' < ')\n",
    "\n",
    "def greet(who='Colin'):\n",
    "    print('Hello, ', who)\n",
    "\n",
    "greet()\n",
    "greet(who='Kallion')\n",
    "greet('rains')"
   ]
  },
  {
   "cell_type": "code",
   "execution_count": 6,
   "metadata": {},
   "outputs": [
    {
     "name": "stdout",
     "output_type": "stream",
     "text": [
      "5\n",
      "25\n"
     ]
    }
   ],
   "source": [
    "# Highe Order Function\n",
    "\n",
    "def mult_by_five(x):\n",
    "    return 5 * x \n",
    "\n",
    "def call(fn, arg):\n",
    "    \"\"\"Call fn on arg\"\"\"\n",
    "    return fn(arg)\n",
    "\n",
    "def squared_call(fn,arg):\n",
    "    \"\"\"Call fn on the result of calling fn on arg\"\"\"\n",
    "    return fn(fn(arg))\n",
    "\n",
    "print(call(mult_by_five, 1),\n",
    "      squared_call(mult_by_five, 1), sep='\\n')"
   ]
  },
  {
   "cell_type": "code",
   "execution_count": 7,
   "metadata": {},
   "outputs": [
    {
     "data": {
      "text/plain": [
       "3.13"
      ]
     },
     "execution_count": 7,
     "metadata": {},
     "output_type": "execute_result"
    }
   ],
   "source": [
    "def round_to_two_places(num):\n",
    "    return round(num, ndigits=2)\n",
    "\n",
    "round_to_two_places(3.12987)"
   ]
  },
  {
   "cell_type": "code",
   "execution_count": 12,
   "metadata": {},
   "outputs": [
    {
     "data": {
      "text/plain": [
       "['Venus', 'Earth', 'Mars', 'Jupiter', 'Saturn', 'Uranus']"
      ]
     },
     "execution_count": 12,
     "metadata": {},
     "output_type": "execute_result"
    }
   ],
   "source": [
    "# List\n",
    "\n",
    "planets = ['Mercury', 'Venus', 'Earth', 'Mars', 'Jupiter', 'Saturn', 'Uranus', 'Neptune']\n",
    "\n",
    "planets[1:-1]\n"
   ]
  },
  {
   "cell_type": "code",
   "execution_count": 15,
   "metadata": {},
   "outputs": [
    {
     "data": {
      "text/plain": [
       "['Mur', 'Vee', 'Ur', 'Malacandra', 'Jupiter', 'Saturn', 'Uranus', 'Neptune']"
      ]
     },
     "execution_count": 15,
     "metadata": {},
     "output_type": "execute_result"
    }
   ],
   "source": [
    "planets[:3] = ['Mur', 'Vee', 'Ur']\n",
    "planets"
   ]
  },
  {
   "cell_type": "code",
   "execution_count": 18,
   "metadata": {},
   "outputs": [
    {
     "data": {
      "text/plain": [
       "['Earth', 'Jupiter', 'Mars', 'Mercury', 'Neptune', 'Saturn', 'Uranus', 'Venus']"
      ]
     },
     "execution_count": 18,
     "metadata": {},
     "output_type": "execute_result"
    }
   ],
   "source": [
    "planets[:4] = ['Mercury', 'Venus', 'Earth', 'Mars',]\n",
    "\n",
    "len(planets)\n",
    "sorted(planets)"
   ]
  },
  {
   "cell_type": "code",
   "execution_count": 20,
   "metadata": {},
   "outputs": [
    {
     "data": {
      "text/plain": [
       "7"
      ]
     },
     "execution_count": 20,
     "metadata": {},
     "output_type": "execute_result"
    }
   ],
   "source": [
    "primes = [2,3,5,7]\n",
    "\n",
    "sum(primes)\n",
    "max(primes)"
   ]
  },
  {
   "cell_type": "code",
   "execution_count": 27,
   "metadata": {},
   "outputs": [
    {
     "data": {
      "text/plain": [
       "4"
      ]
     },
     "execution_count": 27,
     "metadata": {},
     "output_type": "execute_result"
    }
   ],
   "source": [
    "# Interlude: Objects\n",
    "\n",
    "x = 12\n",
    "c = x + 3j\n",
    "\n",
    "# c.imag\n",
    "x.bit_length()"
   ]
  },
  {
   "cell_type": "code",
   "execution_count": 28,
   "metadata": {},
   "outputs": [
    {
     "name": "stdout",
     "output_type": "stream",
     "text": [
      "Help on built-in function bit_length:\n",
      "\n",
      "bit_length() method of builtins.int instance\n",
      "    Number of bits necessary to represent self in binary.\n",
      "    \n",
      "    >>> bin(37)\n",
      "    '0b100101'\n",
      "    >>> (37).bit_length()\n",
      "    6\n",
      "\n"
     ]
    }
   ],
   "source": [
    "help(x.bit_length)"
   ]
  },
  {
   "cell_type": "code",
   "execution_count": 29,
   "metadata": {},
   "outputs": [
    {
     "data": {
      "text/plain": [
       "'0b1100'"
      ]
     },
     "execution_count": 29,
     "metadata": {},
     "output_type": "execute_result"
    }
   ],
   "source": [
    "bin(12)"
   ]
  },
  {
   "cell_type": "code",
   "execution_count": 81,
   "metadata": {},
   "outputs": [
    {
     "data": {
      "text/plain": [
       "2"
      ]
     },
     "execution_count": 81,
     "metadata": {},
     "output_type": "execute_result"
    }
   ],
   "source": [
    "planets.index('Earth')"
   ]
  },
  {
   "cell_type": "code",
   "execution_count": 43,
   "metadata": {},
   "outputs": [
    {
     "data": {
      "text/plain": [
       "3"
      ]
     },
     "execution_count": 43,
     "metadata": {},
     "output_type": "execute_result"
    }
   ],
   "source": [
    "# tuples\n",
    "\n",
    "t = (1,2,2,23,2)\n",
    "t.count(2)\n"
   ]
  },
  {
   "cell_type": "code",
   "execution_count": 47,
   "metadata": {},
   "outputs": [
    {
     "data": {
      "text/plain": [
       "(1, 8)"
      ]
     },
     "execution_count": 47,
     "metadata": {},
     "output_type": "execute_result"
    }
   ],
   "source": [
    "x = 0.125\n",
    "a, b = x.as_integer_ratio()"
   ]
  },
  {
   "cell_type": "code",
   "execution_count": 76,
   "metadata": {},
   "outputs": [
    {
     "name": "stdout",
     "output_type": "stream",
     "text": [
      "['Ringo', 'George']\n"
     ]
    },
    {
     "data": {
      "text/plain": [
       "True"
      ]
     },
     "execution_count": 76,
     "metadata": {},
     "output_type": "execute_result"
    }
   ],
   "source": [
    "party_attendees = ['Adela', 'Fleda', 'Owen', 'May', 'Mona', 'Gilbert', 'Ford']\n",
    "party_attendees=['Paul', 'John', 'Ringo', 'George']\n",
    "\n",
    "def fashionably_late(arrivals, name):\n",
    "    \"\"\"\n",
    "    Given an ordered list of arrivals to the party and a name, return whether the guest with that name was fashionably late.\n",
    "    \"\"\"\n",
    "    half = round(len(arrivals) / 2)\n",
    "    half_list = arrivals[half:]\n",
    "    return name in half_list and name != half_list[-1]\n",
    "\n",
    "fashionably_late(party_attendees, 'Ringo')"
   ]
  },
  {
   "cell_type": "code",
   "execution_count": 84,
   "metadata": {},
   "outputs": [
    {
     "name": "stdout",
     "output_type": "stream",
     "text": [
      "Mercury Venus Earth Mars Jupiter Saturn Uranus Neptune "
     ]
    }
   ],
   "source": [
    "planets = ['Mercury', 'Venus', 'Earth', 'Mars', 'Jupiter', 'Saturn', 'Uranus', 'Neptune']\n",
    "\n",
    "for planet in planets:\n",
    "    print(planet, end=' ')"
   ]
  },
  {
   "cell_type": "code",
   "execution_count": 85,
   "metadata": {},
   "outputs": [
    {
     "name": "stdout",
     "output_type": "stream",
     "text": [
      "Doing inportant task. i =  0\n",
      "Doing inportant task. i =  1\n",
      "Doing inportant task. i =  2\n",
      "Doing inportant task. i =  3\n",
      "Doing inportant task. i =  4\n"
     ]
    }
   ],
   "source": [
    "# Range\n",
    "\n",
    "for i in range(5):\n",
    "    print('Doing inportant task. i = ', i)"
   ]
  },
  {
   "cell_type": "code",
   "execution_count": 87,
   "metadata": {},
   "outputs": [
    {
     "name": "stdout",
     "output_type": "stream",
     "text": [
      "0 1 2 3 4 5 6 7 8 9 "
     ]
    }
   ],
   "source": [
    "# While loop\n",
    "i = 0\n",
    "while i <10:\n",
    "    print(i, end=' ')\n",
    "    i += 1"
   ]
  },
  {
   "cell_type": "code",
   "execution_count": 88,
   "metadata": {},
   "outputs": [
    {
     "data": {
      "text/plain": [
       "[0, 1, 4, 9, 16, 25, 36, 49, 64, 81]"
      ]
     },
     "execution_count": 88,
     "metadata": {},
     "output_type": "execute_result"
    }
   ],
   "source": [
    "# List comprehensions\n",
    "\n",
    "squares = [n**2 for n in range(10)]\n",
    "squares"
   ]
  },
  {
   "cell_type": "code",
   "execution_count": 89,
   "metadata": {},
   "outputs": [
    {
     "data": {
      "text/plain": [
       "['Venus', 'Earth', 'Mars']"
      ]
     },
     "execution_count": 89,
     "metadata": {},
     "output_type": "execute_result"
    }
   ],
   "source": [
    "short_planets = [planet for planet in planets if len(planet) < 6]\n",
    "short_planets"
   ]
  },
  {
   "cell_type": "code",
   "execution_count": 91,
   "metadata": {},
   "outputs": [
    {
     "data": {
      "text/plain": [
       "['VENUS!', 'EARTH!', 'MARS!']"
      ]
     },
     "execution_count": 91,
     "metadata": {},
     "output_type": "execute_result"
    }
   ],
   "source": [
    "# adding filtering and transformation\n",
    "loud_short_plants = [ \n",
    "    planet.upper() + '!' \n",
    "    for planet in planets \n",
    "    if len(planet) < 6]\n",
    "\n",
    "loud_short_plants"
   ]
  },
  {
   "cell_type": "code",
   "execution_count": 94,
   "metadata": {},
   "outputs": [
    {
     "data": {
      "text/plain": [
       "2"
      ]
     },
     "execution_count": 94,
     "metadata": {},
     "output_type": "execute_result"
    }
   ],
   "source": [
    "def count_negatives(nums):\n",
    "    \"\"\"\n",
    "        Return the number of negative number in the given list\n",
    "\n",
    "    >>> count_negatives([5,-1,-2,0,3])\n",
    "    2\n",
    "    \"\"\"\n",
    "    n_negatives =0\n",
    "    for num in nums:\n",
    "        if num < 0:\n",
    "            n_negatives +=1\n",
    "\n",
    "    return n_negatives\n",
    "\n",
    "\n",
    "count_negatives([5,-1,-2,0,3])"
   ]
  },
  {
   "cell_type": "code",
   "execution_count": 96,
   "metadata": {},
   "outputs": [
    {
     "data": {
      "text/plain": [
       "2"
      ]
     },
     "execution_count": 96,
     "metadata": {},
     "output_type": "execute_result"
    }
   ],
   "source": [
    "def count_negatives(nums):\n",
    "    return len([\n",
    "        num for num in nums\n",
    "        if num < 0\n",
    "    ])\n",
    "\n",
    "count_negatives([5,-1,-2,0,3])"
   ]
  },
  {
   "cell_type": "code",
   "execution_count": 104,
   "metadata": {},
   "outputs": [
    {
     "data": {
      "text/plain": [
       "True"
      ]
     },
     "execution_count": 104,
     "metadata": {},
     "output_type": "execute_result"
    }
   ],
   "source": [
    "def has_lucky_number(nums):\n",
    "    \"\"\"Return whether the given list of numbers is lucky. A lucky list contains at least one number divisible by 7.\n",
    "    \"\"\"\n",
    "    for num in nums:\n",
    "        # print(num)\n",
    "        if num % 7 == 0:\n",
    "            return True\n",
    "    return False\n",
    "        \n",
    "has_lucky_number([2, 14])"
   ]
  },
  {
   "cell_type": "code",
   "execution_count": 108,
   "metadata": {},
   "outputs": [
    {
     "data": {
      "text/plain": [
       "[False, False, True, True]"
      ]
     },
     "execution_count": 108,
     "metadata": {},
     "output_type": "execute_result"
    }
   ],
   "source": [
    "def elementwise_greater_than(L, thresh):\n",
    "    \"\"\"Return a list with the same length as L, where the value at index i is \n",
    "    True if L[i] is greater than thresh, and False otherwise.\n",
    "    \n",
    "    >>> elementwise_greater_than([1, 2, 3, 4], 2)\n",
    "    [False, False, True, True]\n",
    "    \"\"\"\n",
    "    return [\n",
    "        num > thresh  \n",
    "        for num in L\n",
    "        ]\n",
    "\n",
    "elementwise_greater_than([1, 2, 3, 4], 2)"
   ]
  },
  {
   "cell_type": "code",
   "execution_count": 109,
   "metadata": {},
   "outputs": [
    {
     "data": {
      "text/plain": [
       "{'Mercury': 'M',\n",
       " 'Venus': 'V',\n",
       " 'Earth': 'E',\n",
       " 'Mars': 'M',\n",
       " 'Jupiter': 'J',\n",
       " 'Saturn': 'S',\n",
       " 'Uranus': 'U',\n",
       " 'Neptune': 'N'}"
      ]
     },
     "execution_count": 109,
     "metadata": {},
     "output_type": "execute_result"
    }
   ],
   "source": [
    "planet_to_initial ={planet: planet[0] for planet in planets}\n",
    "planet_to_initial"
   ]
  },
  {
   "cell_type": "code",
   "execution_count": 111,
   "metadata": {},
   "outputs": [
    {
     "data": {
      "text/plain": [
       "True"
      ]
     },
     "execution_count": 111,
     "metadata": {},
     "output_type": "execute_result"
    }
   ],
   "source": [
    "\"Neptune\" in planets"
   ]
  },
  {
   "cell_type": "code",
   "execution_count": 112,
   "metadata": {},
   "outputs": [
    {
     "data": {
      "text/plain": [
       "dict_keys(['Mercury', 'Venus', 'Earth', 'Mars', 'Jupiter', 'Saturn', 'Uranus', 'Neptune'])"
      ]
     },
     "execution_count": 112,
     "metadata": {},
     "output_type": "execute_result"
    }
   ],
   "source": [
    "planet_to_initial.keys()"
   ]
  },
  {
   "cell_type": "code",
   "execution_count": 113,
   "metadata": {},
   "outputs": [
    {
     "data": {
      "text/plain": [
       "dict_values(['M', 'V', 'E', 'M', 'J', 'S', 'U', 'N'])"
      ]
     },
     "execution_count": 113,
     "metadata": {},
     "output_type": "execute_result"
    }
   ],
   "source": [
    "planet_to_initial.values()"
   ]
  },
  {
   "cell_type": "code",
   "execution_count": 114,
   "metadata": {},
   "outputs": [
    {
     "data": {
      "text/plain": [
       "5"
      ]
     },
     "execution_count": 114,
     "metadata": {},
     "output_type": "execute_result"
    }
   ],
   "source": [
    "len('hello')"
   ]
  },
  {
   "cell_type": "code",
   "execution_count": 118,
   "metadata": {},
   "outputs": [
    {
     "data": {
      "text/plain": [
       "True"
      ]
     },
     "execution_count": 118,
     "metadata": {},
     "output_type": "execute_result"
    }
   ],
   "source": [
    "type(['2']) == list"
   ]
  },
  {
   "cell_type": "code",
   "execution_count": 158,
   "metadata": {},
   "outputs": [
    {
     "data": {
      "text/plain": [
       "False"
      ]
     },
     "execution_count": 158,
     "metadata": {},
     "output_type": "execute_result"
    }
   ],
   "source": [
    "def is_valid_zip(zip_code):\n",
    "    \"\"\"Returns whether the input string is a valid (5 digit) zip code\n",
    "    \"\"\"\n",
    "    check = ''\n",
    "    if type(zip_code) == list:\n",
    "        return len(zip_code) == 5\n",
    "    elif type(zip_code) == int:\n",
    "        check = len(str(zip_code)) == 5\n",
    "    else:\n",
    "        check = zip_code.isdigit() and len(str(zip_code)) > 4\n",
    "    return check\n",
    "\n",
    "is_valid_zip('8844')\n"
   ]
  },
  {
   "cell_type": "code",
   "execution_count": 236,
   "metadata": {},
   "outputs": [
    {
     "data": {
      "text/plain": [
       "[1]"
      ]
     },
     "execution_count": 236,
     "metadata": {},
     "output_type": "execute_result"
    }
   ],
   "source": [
    " \n",
    "doc_list = ['The Learn Python Challenge Casino', 'They bought a car, and a horse', 'Casinoville?']\n",
    "#    >>> word_search(doc_list, 'casino')\n",
    " #  >>> [0]\n",
    "\n",
    "def word_search(docs, keyword):\n",
    "    ans = []\n",
    "    for i, doc in enumerate(doc_list):\n",
    "        # print( keyword.lower()  )\n",
    "        tokens = doc.split()\n",
    "        normalized = [token.strip('.,').lower() for token in tokens] \n",
    "\n",
    "        if keyword.lower() in normalized:\n",
    "            ans.append(i)\n",
    "            \n",
    "    return ans\n",
    "\n",
    "word_search(doc_list, 'car')"
   ]
  },
  {
   "cell_type": "code",
   "execution_count": 237,
   "metadata": {},
   "outputs": [],
   "source": [
    "def multi_word_search(doc_list, keywords):\n",
    "    \"\"\"\n",
    "    Takes list of documents (each document is a string) and a list of keywords.  \n",
    "    Returns a dictionary where each key is a keyword, and the value is a list of indices\n",
    "    (from doc_list) of the documents containing that keyword\n",
    "\n",
    "    >>> doc_list = [\"The Learn Python Challenge Casino.\", \"They bought a car and a casino\", \"Casinoville\"]\n",
    "    >>> keywords = ['casino', 'they']\n",
    "    >>> multi_word_search(doc_list, keywords)\n",
    "    {'casino': [0, 1], 'they': [1]}\n",
    "    \"\"\"\n",
    "    ans = {}\n",
    "    for keyword in keywords:\n",
    "        ans[keyword] = word_search(doc_list, keyword)\n",
    "        \n",
    "    return ans"
   ]
  },
  {
   "cell_type": "code",
   "execution_count": 250,
   "metadata": {},
   "outputs": [
    {
     "name": "stdout",
     "output_type": "stream",
     "text": [
      "It's math! It has type 3.142\n"
     ]
    },
    {
     "data": {
      "text/plain": [
       "5.0"
      ]
     },
     "execution_count": 250,
     "metadata": {},
     "output_type": "execute_result"
    }
   ],
   "source": [
    "import math as mt\n",
    "\n",
    "print(\"It's math! It has type {:.4}\".format(mt.pi))\n",
    "mt.log(32,2)"
   ]
  },
  {
   "cell_type": "code",
   "execution_count": null,
   "metadata": {},
   "outputs": [],
   "source": [
    "# school grade\n",
    "def get_grade(score):\n",
    "    if score >= 90:\n",
    "        grade = 'A'\n",
    "    elif score >= 80:\n",
    "        grade = 'B'\n",
    "    elif score >= 70:\n",
    "        grade = 'C'\n",
    "    elif score >= 60:\n",
    "        grade = 'D'\n",
    "    else:\n",
    "        grade = 'F'\n",
    "    \n",
    "    return grade\n",
    "\n",
    "\n",
    "result = get_grade(60)"
   ]
  },
  {
   "cell_type": "code",
   "execution_count": null,
   "metadata": {},
   "outputs": [],
   "source": [
    "# Recall that the online shop has the following price structure:\n",
    "\n",
    "# Gold plated rings have a base cost of $50, and you charge $7 per engraved unit.\n",
    "# Solid gold rings have a base cost of $100, and you charge $10 per engraved unit.\n",
    "# Spaces and punctuation are counted as engraved units.\n",
    "# Your function cost_of_project() takes two arguments:\n",
    "\n",
    "# engraving - a Python string with the text of the engraving\n",
    "# solid_gold - a Boolean that indicates whether the ring is solid gold\n",
    "# It should return the cost of the project.\n",
    "\n",
    "def cost_of_project(engraving, solid_gold):\n",
    "    if solid_gold == True:\n",
    "        cost = 100 * len(engraving)\n",
    "    else:\n",
    "        cost = 50 * len(engraving)\n",
    "    \n",
    "    return cost\n",
    "\n",
    "result = cost_of_project(\"Live of mine\", False)"
   ]
  },
  {
   "cell_type": "code",
   "execution_count": null,
   "metadata": {},
   "outputs": [],
   "source": [
    "# The water agency uses this pricing structure:\n",
    "\n",
    "# Tier          Amount in gallons              Price per 1000 gallons\n",
    "# Tier 1\t      0 - 8,000\t                    $5\n",
    "# Tier 2\t      8,001 - 22,000\t            $6\n",
    "# Tier 3\t      22,001 - 30,000\t            $7\n",
    "# Tier 4\t      30,001+\t                    $10\n",
    "\n",
    "# function returns the correct bill for different values of num_gallons\n",
    "def get_water_bill(num_gallons):\n",
    "    cost = 0\n",
    "    liters = num_gallons / 1000\n",
    "    if num_gallons <= 8000:\n",
    "        cost = 5 *   liters\n",
    "    elif num_gallons <= 22000:\n",
    "        cost = 6 *  liters\n",
    "    elif num_gallons <= 30000:\n",
    "        cost = 7 * liters\n",
    "    else:\n",
    "        cost = 10 * liters\n",
    "    \n",
    "    return cost\n",
    "\n",
    "bill = get_water_bill(12000)"
   ]
  },
  {
   "cell_type": "code",
   "execution_count": null,
   "metadata": {},
   "outputs": [],
   "source": [
    "\n",
    "# get phone bill\n",
    "# $100/month ~ 15GB \n",
    "# $0.10MB ~ for more\n",
    "\n",
    "def get_phone_bill(gb):\n",
    "    bill = 0\n",
    "    if gb <= 15:\n",
    "        bill = 100\n",
    "    else:\n",
    "        bill = 100 + (gb - 15) * 100\n",
    "        \n",
    "    return bill\n",
    "\n",
    "bill  = get_phone_bill(15.1)"
   ]
  },
  {
   "cell_type": "code",
   "execution_count": null,
   "metadata": {},
   "outputs": [],
   "source": [
    "\n",
    "\n",
    "flower_list = [\"pink primrose\", \"hard-leaved pocket orchid\", \"canterbury bells\", \"sweet pea\", \"english marigold\", \"tiger lily\", \"moon orchid\", \"bird of paradise\", \"monkshood\", \"globe thistle\"]\n",
    "# print(len(flower_list))\n",
    "# print('last item: ', flower_list[-1])\n",
    "# print('first three entries: ', flower_list[-2:])\n",
    "\n",
    "flower_list.remove('pink primrose')\n",
    "# print(flower_list)\n",
    "flower_list.append('rain')\n",
    "# print(flower_list)\n",
    "\n",
    "# List of integer\n",
    "hardcover_sales = [139, 128,172, 139, 191, 168, 170]\n",
    "# print('minimum: ', min(hardcover_sales))\n",
    "# print('maximum: ', max(hardcover_sales))\n",
    "# print('sum: ', sum(hardcover_sales))\n",
    "\n",
    "def food():\n",
    "    menu = ['stewed meat with onions', 'bean soup', 'risotto with trout and shrimp', 'fish soup with cream and onion', 'gyro']\n",
    "\n",
    "    menu.remove('bean soup')\n",
    "    menu.append('roasted beet salad')\n",
    "\n",
    "    return menu\n",
    "\n",
    "food()"
   ]
  },
  {
   "cell_type": "code",
   "execution_count": 3,
   "metadata": {},
   "outputs": [
    {
     "name": "stdout",
     "output_type": "stream",
     "text": [
      "3.629533421163837\n",
      "But I dont want any span!\n"
     ]
    },
    {
     "data": {
      "text/plain": [
       "['8', '8', '4', '7', '3', '6']"
      ]
     },
     "execution_count": 3,
     "metadata": {},
     "output_type": "execute_result"
    }
   ],
   "source": [
    "# print('hello, rain, bet'.upper().split())\n",
    "\n",
    "# We say someone liked the movie, if they gave a rating of either 4 or 5. Your function should return the percentage of people who liked the movie.\n",
    "def percentage_liked(ratings):\n",
    "    list_liked = [i >= 4 for i in ratings]\n",
    "    percentage_liked = sum(list_liked)/len(list_liked)\n",
    "    return percentage_liked\n",
    "\n",
    "\n",
    "reviews = [1, 2, 3, 4, 5, 4, 5, 1]\n",
    "liked = percentage_liked(reviews)\n",
    "\n",
    "\n",
    "def percentage_growth(num_users, yrs_ago):\n",
    "    yr_ago = num_users[len(num_users) - yrs_ago - 1]\n",
    "    growth = (num_users[len(num_users)-1] - yr_ago) / yr_ago\n",
    "\n",
    "    return growth * 100\n",
    "\n",
    "num_users=[920344, 1043553, 1204334, 1458996, 1503323, 1593432, 1623463, 1843064, 1930992, 2001078]\n",
    "\n",
    "print(percentage_growth(num_users, 1))\n",
    "\n",
    "spam_amount = 0\n",
    "spam_amount = spam_amount + 4\n",
    "\n",
    "if spam_amount > 0:\n",
    "    print('But I dont want any span!')\n",
    "\n",
    "viking_song = 'Spam ' * spam_amount\n",
    "# print(viking_song)\n",
    "\n",
    "\n",
    "def is_valid_zip(zip_code):\n",
    "    \"\"\"Returns whether the input string is a valid (5 digit) zip code\n",
    "    \"\"\"\n",
    "    check = ''\n",
    "    if type(zip_code) == list:\n",
    "        return len(zip_code) == 5\n",
    "    elif type(zip_code) == int:\n",
    "        check = len(str(zip_code)) == 5\n",
    "    else:\n",
    "        # a = zip_code.split(',')\n",
    "        check = [ch for ch in zip_code]\n",
    "        # print(check)\n",
    "    return check\n",
    "\n",
    "# Check your answer\n",
    "\n",
    "is_valid_zip('884736')"
   ]
  },
  {
   "cell_type": "code",
   "execution_count": 3,
   "metadata": {},
   "outputs": [
    {
     "data": {
      "text/plain": [
       "'/opt/homebrew/lib/python3.11/site-packages'"
      ]
     },
     "execution_count": 3,
     "metadata": {},
     "output_type": "execute_result"
    }
   ],
   "source": [
    "import sysconfig\n",
    "\n",
    "sysconfig.get_path('platlib')"
   ]
  }
 ],
 "metadata": {
  "kernelspec": {
   "display_name": "Python 3",
   "language": "python",
   "name": "python3"
  },
  "language_info": {
   "codemirror_mode": {
    "name": "ipython",
    "version": 3
   },
   "file_extension": ".py",
   "mimetype": "text/x-python",
   "name": "python",
   "nbconvert_exporter": "python",
   "pygments_lexer": "ipython3",
   "version": "3.11.5"
  }
 },
 "nbformat": 4,
 "nbformat_minor": 2
}
